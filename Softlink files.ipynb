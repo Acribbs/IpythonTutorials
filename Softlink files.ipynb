{
 "cells": [
  {
   "cell_type": "markdown",
   "metadata": {},
   "source": [
    "# Softlink(Sy\n",
    "Unnecessary copying of data from a directory that is backed up is a definite no no.\n",
    "\n",
    "It wastes disk storage space and is completely crazy to duplicate data\n",
    "\n",
    "One easy way to avoid this is by setting up softlinks. This notebook contains code snippets that take you through how to softlink the data to a new directory"
   ]
  },
  {
   "cell_type": "markdown",
   "metadata": {},
   "source": [
    "# Import python modules"
   ]
  },
  {
   "cell_type": "code",
   "execution_count": 5,
   "metadata": {
    "collapsed": true
   },
   "outputs": [],
   "source": [
    "import os\n",
    "import glob\n",
    "import re"
   ]
  },
  {
   "cell_type": "code",
   "execution_count": 9,
   "metadata": {
    "collapsed": false
   },
   "outputs": [
    {
     "name": "stdout",
     "output_type": "stream",
     "text": [
      "2\n"
     ]
    }
   ],
   "source": [
    "# Use glob.glob and wildcard to find all of your files in a certain directory (In this case I want to search for fastq files)\n",
    "infiles = glob.glob(\"data/*fastq*\")\n",
    "\n",
    "print len(infiles)\n",
    "#print(len(infile)) for python 3"
   ]
  },
  {
   "cell_type": "code",
   "execution_count": 16,
   "metadata": {
    "collapsed": false
   },
   "outputs": [
    {
     "name": "stdout",
     "output_type": "stream",
     "text": [
      "data.fastq.gz\n",
      "data/new_data/data.fastq.gz\n",
      "\n",
      "other_data.fastq.gz\n",
      "data/new_data/other_data.fastq.gz\n",
      "\n"
     ]
    }
   ],
   "source": [
    "# set the directory where the new file will be placed\n",
    "new_dir = \"data/new_data/\"\n",
    "\n",
    "# Next loop through the infiles and isolate the basename\n",
    "for infile in infiles:\n",
    "    basename = os.path.basename(infile)\n",
    "    print basename\n",
    "    # or print(basename) for python 3\n",
    "    final_file = new_dir + basename\n",
    "    print final_file + \"\\n\"\n",
    "    \n",
    "    # Next use symlink (softlink) functionality of os, but also check to make sure file doesnt already exist in there\n",
    "    # this will avoid inadvertently overwriting a previous symlink. Symlink works as follows: os.symlink(source, destination)\n",
    "    \n",
    "    if not os.path.exists(final_file):\n",
    "        os.symlink(infile, final_file)\n",
    "    else:\n",
    "        print \"sample symlink already exists\""
   ]
  }
 ],
 "metadata": {
  "kernelspec": {
   "display_name": "Python [conda root]",
   "language": "python",
   "name": "conda-root-py"
  },
  "language_info": {
   "codemirror_mode": {
    "name": "ipython",
    "version": 2
   },
   "file_extension": ".py",
   "mimetype": "text/x-python",
   "name": "python",
   "nbconvert_exporter": "python",
   "pygments_lexer": "ipython2",
   "version": "2.7.13"
  }
 },
 "nbformat": 4,
 "nbformat_minor": 2
}
